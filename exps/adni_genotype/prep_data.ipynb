{
 "metadata": {
  "language_info": {
   "codemirror_mode": {
    "name": "ipython",
    "version": 3
   },
   "file_extension": ".py",
   "mimetype": "text/x-python",
   "name": "python",
   "nbconvert_exporter": "python",
   "pygments_lexer": "ipython3",
   "version": "3.8.10"
  },
  "orig_nbformat": 2,
  "kernelspec": {
   "name": "python3810jvsc74a57bd06e37bbf19936af73f87649b0b7fe964622a578c2b98c3fe80197eae9eeb23fd3",
   "display_name": "Python 3.8.10 64-bit"
  },
  "metadata": {
   "interpreter": {
    "hash": "6e37bbf19936af73f87649b0b7fe964622a578c2b98c3fe80197eae9eeb23fd3"
   }
  }
 },
 "nbformat": 4,
 "nbformat_minor": 2,
 "cells": [
  {
   "source": [
    "## Prepping bgen ADNI data for analysis\n",
    "\n",
    "### Preqs:\n",
    "- conda (on macosx I use `brew install miniconda`)\n",
    "\n",
    "Create a new environment to work on:\n",
    "\n",
    "```shell\n",
    "conda create -n sfsu\n",
    "conda activate sfsu\n",
    "```\n",
    "\n",
    "- bgenix: `conda install -c conda-forge bgenix`\n",
    "- [pybgen](https://lemieuxl.github.io/pybgen/index.html): \n",
    "```shell\n",
    "conda config --add channels http://statgen.org/wp-content/uploads/Softwares/pybgen\n",
    "conda install pybgen\n",
    "```\n",
    "- pandas: `conda install pandas`\n",
    "\n",
    "### data\n",
    "\n",
    "I downloaded three of the files in the [ADNI drive folder](https://drive.google.com/drive/u/0/folders/1whflUk5psModyhGWuecr-DB5ZklszBNp)\n",
    "\n",
    "- `ADNI_merge.sample`: to get sample ids and use as column headers\n",
    "- `ADNI_merged_21.bgen`: smaller file to use for testing\n",
    "- `ADNI_merged_19.bgen`: chr19 data we can use for the activity (APOE gene is on chr19)\n",
    "\n",
    "I then used the indexing program `bgenix` to index the bgen files (not really necessary)\n",
    "\n",
    "```shell\n",
    "bgenix -g ADNI_merged_21.bgen -index\n",
    "bgenix -g ADNI_merged_19.bgen -index\n",
    "```\n"
   ],
   "cell_type": "markdown",
   "metadata": {}
  },
  {
   "cell_type": "code",
   "execution_count": 1,
   "metadata": {},
   "outputs": [
    {
     "output_type": "stream",
     "name": "stdout",
     "text": [
      "total 813328\n-rw-r--r--@ 1 corradah  staff      31870 May 21 07:45 ADNI_merged.sample\n-rw-r--r--@ 1 corradah  staff  261420612 May 21 08:05 ADNI_merged_19.bgen\n-rw-r--r--  1 corradah  staff   13561856 May 21 08:07 ADNI_merged_19.bgen.bgi\n-rw-r--r--@ 1 corradah  staff  124140480 May 19 08:45 ADNI_merged_21.bgen\n-rw-r--r--  1 corradah  staff    7634944 May 21 07:09 ADNI_merged_21.bgen.bgi\n-rw-r--r--  1 corradah  staff       3049 May 21 08:36 prep_data.ipynb\n"
     ]
    }
   ],
   "source": [
    "# after it's all done, this is what the directory looks like\n",
    "!ls -l"
   ]
  },
  {
   "source": [
    "## Dealing with samples\n",
    "\n",
    "Let's read the `ADNI_merged.sample` file and get sample ids. The file format is described\n",
    "[here](https://www.well.ox.ac.uk/~gav/qctool/documentation/sample_file_formats.html)\n"
   ],
   "cell_type": "markdown",
   "metadata": {}
  },
  {
   "cell_type": "code",
   "execution_count": 7,
   "metadata": {},
   "outputs": [
    {
     "output_type": "execute_result",
     "data": {
      "text/plain": [
       "['ID_1', 'ID_2', 'missing', 'father', 'mother', 'sex', 'plink_pheno']"
      ]
     },
     "metadata": {},
     "execution_count": 7
    }
   ],
   "source": [
    "import pandas as pd\n",
    "\n",
    "# first let's read the header line separately\n",
    "sample_file = \"ADNI_merged.sample\"\n",
    "with open(sample_file, 'r') as f:\n",
    "    colnames = f.readline().strip().split(' ')\n",
    "colnames\n"
   ]
  },
  {
   "cell_type": "code",
   "execution_count": 12,
   "metadata": {},
   "outputs": [
    {
     "output_type": "execute_result",
     "data": {
      "text/plain": [
       "   ID_1        ID_2   missing  father  mother  sex  plink_pheno\n",
       "0     1  014_S_0520  0.047162       0       0    2           -9\n",
       "1     2  005_S_1341  0.047162       0       0    2           -9\n",
       "2     4  012_S_0803  0.047162       0       0    2           -9\n",
       "3     5  018_S_0055  0.047162       0       0    1           -9\n",
       "4     6  027_S_0118  0.047162       0       0    1           -9"
      ],
      "text/html": "<div>\n<style scoped>\n    .dataframe tbody tr th:only-of-type {\n        vertical-align: middle;\n    }\n\n    .dataframe tbody tr th {\n        vertical-align: top;\n    }\n\n    .dataframe thead th {\n        text-align: right;\n    }\n</style>\n<table border=\"1\" class=\"dataframe\">\n  <thead>\n    <tr style=\"text-align: right;\">\n      <th></th>\n      <th>ID_1</th>\n      <th>ID_2</th>\n      <th>missing</th>\n      <th>father</th>\n      <th>mother</th>\n      <th>sex</th>\n      <th>plink_pheno</th>\n    </tr>\n  </thead>\n  <tbody>\n    <tr>\n      <th>0</th>\n      <td>1</td>\n      <td>014_S_0520</td>\n      <td>0.047162</td>\n      <td>0</td>\n      <td>0</td>\n      <td>2</td>\n      <td>-9</td>\n    </tr>\n    <tr>\n      <th>1</th>\n      <td>2</td>\n      <td>005_S_1341</td>\n      <td>0.047162</td>\n      <td>0</td>\n      <td>0</td>\n      <td>2</td>\n      <td>-9</td>\n    </tr>\n    <tr>\n      <th>2</th>\n      <td>4</td>\n      <td>012_S_0803</td>\n      <td>0.047162</td>\n      <td>0</td>\n      <td>0</td>\n      <td>2</td>\n      <td>-9</td>\n    </tr>\n    <tr>\n      <th>3</th>\n      <td>5</td>\n      <td>018_S_0055</td>\n      <td>0.047162</td>\n      <td>0</td>\n      <td>0</td>\n      <td>1</td>\n      <td>-9</td>\n    </tr>\n    <tr>\n      <th>4</th>\n      <td>6</td>\n      <td>027_S_0118</td>\n      <td>0.047162</td>\n      <td>0</td>\n      <td>0</td>\n      <td>1</td>\n      <td>-9</td>\n    </tr>\n  </tbody>\n</table>\n</div>"
     },
     "metadata": {},
     "execution_count": 12
    }
   ],
   "source": [
    "# now let's read the file itself, let's do 50 lines as a test\n",
    "sample_df = pd.read_csv(sample_file, header=None, skiprows=2, nrows=50, delimiter=' ')\n",
    "sample_df.columns = colnames\n",
    "sample_df.head()"
   ]
  },
  {
   "source": [
    "That seems to work, looks like ID_2 should mean something as an id, let's use that \n",
    "as sample names when we prepare the dosage matrix. Let's read the whole thing now.\n"
   ],
   "cell_type": "markdown",
   "metadata": {}
  },
  {
   "cell_type": "code",
   "execution_count": 13,
   "metadata": {},
   "outputs": [
    {
     "output_type": "stream",
     "name": "stdout",
     "text": [
      "We read 940 rows\n"
     ]
    }
   ],
   "source": [
    "sample_df = pd.read_csv(sample_file, header=None, skiprows=2, delimiter=' ')\n",
    "sample_df.columns = colnames\n",
    "print(f\"We read {len(sample_df)} rows\")\n"
   ]
  },
  {
   "source": [
    "## Handling bgen data\n",
    "\n",
    "Let's get started reading some info from the bgen file for chr21"
   ],
   "cell_type": "markdown",
   "metadata": {}
  },
  {
   "cell_type": "code",
   "execution_count": 15,
   "metadata": {},
   "outputs": [
    {
     "output_type": "stream",
     "name": "stdout",
     "text": [
      "We have 940 samples\nWe have 177285 variants\n"
     ]
    }
   ],
   "source": [
    "from pybgen import PyBGEN\n",
    "\n",
    "chr21_bgen = \"ADNI_merged_21.bgen\"\n",
    "\n",
    "with PyBGEN(chr21_bgen) as bgen:\n",
    "    print(f\"We have {bgen.nb_samples} samples\")\n",
    "    print(f\"We have {bgen.nb_variants} variants\")"
   ]
  },
  {
   "source": [
    "Ok, number of samples match, that's a relief... Ok, let's look at dosage for the\n",
    "first 3 variants"
   ],
   "cell_type": "markdown",
   "metadata": {}
  },
  {
   "cell_type": "code",
   "execution_count": 18,
   "metadata": {
    "tags": []
   },
   "outputs": [
    {
     "output_type": "stream",
     "name": "stdout",
     "text": [
      "variant info: <Variant rs186660003 chrNA:9419528_A/G>\nlength of dosage array: 940\nfirst six dosage values: [nan nan nan nan nan nan]\n\nvariant info: <Variant rs184649157 chrNA:9576494_G/A>\nlength of dosage array: 940\nfirst six dosage values: [0.00100708 0.00100708 0.00201416 0.         0.00100708        nan]\n\nvariant info: <Variant rs191306879 chrNA:9585758_G/C>\nlength of dosage array: 940\nfirst six dosage values: [0.0039978 0.        0.        0.0289917 0.        0.       ]\n\n"
     ]
    }
   ],
   "source": [
    "i = 0\n",
    "with PyBGEN(chr21_bgen) as bgen:\n",
    "    for info, dosage in bgen:\n",
    "        if i == 3:\n",
    "            break\n",
    "        i += 1\n",
    "        print(f\"variant info: {info}\")\n",
    "        print(f\"length of dosage array: {len(dosage)}\")\n",
    "        print(f\"first six dosage values: {dosage[:6]}\")\n",
    "        print()"
   ]
  },
  {
   "source": [
    "A couple of observations:\n",
    "\n",
    "- info is a class we'll need to extract pieces of. Class definition [here](https://lemieuxl.github.io/pybgen/_modules/pybgen/pybgen.html#PyBGEN.iter_variant_info)\n",
    "- chromose info is not retained, so we need to add that ourselves\n",
    "- there's lot's of nas so we should check for variants that have a lot of nas\n",
    "- it's not readily apparent what allele was used as reference to compute dosage\n",
    "\n",
    "Let's deal with info first, and then figure out the reference allele question"
   ],
   "cell_type": "markdown",
   "metadata": {}
  },
  {
   "cell_type": "code",
   "execution_count": 41,
   "metadata": {},
   "outputs": [
    {
     "output_type": "stream",
     "name": "stdout",
     "text": [
      "rsid: rs186660003, chr: chr21, pos: 9419528, ref: A, alt: G\n"
     ]
    }
   ],
   "source": [
    "# let's make sure we can parse variant info correctly\n",
    "with PyBGEN(chr21_bgen) as bgen:\n",
    "    info, _ = bgen.next()\n",
    "    print(f\"rsid: {info.name}, chr: chr21, pos: {int(info.pos)}, ref: {info.a1}, alt: {info.a2}\")"
   ]
  },
  {
   "source": [
    "Ok, that looks good. Regarding the dosage question, let's take the API of\n",
    "the function [`PyBGEN.get_specific_variant`](https://lemieuxl.github.io/pybgen/_modules/pybgen/pybgen.html#PyBGEN.get_specific_variant)\n",
    "in good faith and call `a1` the reference allele. Now let's confirm this makes sense..."
   ],
   "cell_type": "markdown",
   "metadata": {}
  },
  {
   "cell_type": "code",
   "execution_count": 26,
   "metadata": {},
   "outputs": [
    {
     "output_type": "execute_result",
     "data": {
      "text/plain": [
       "array([0.00100708, 0.00100708, 0.00201416, 0.        , 0.00100708,\n",
       "              nan, 0.00100708, 0.00100708, 0.01098633, 0.02099609])"
      ]
     },
     "metadata": {},
     "execution_count": 26
    }
   ],
   "source": [
    "# let's get dosage values for the second variant\n",
    "# so we can confirm how they are calculated\n",
    "with PyBGEN(chr21_bgen) as bgen:\n",
    "    bgen.next()\n",
    "    _, dosage = bgen.next()\n",
    "    returned_dosages = dosage[:10]\n",
    "returned_dosages"
   ]
  },
  {
   "cell_type": "code",
   "execution_count": 27,
   "metadata": {},
   "outputs": [
    {
     "output_type": "stream",
     "name": "stdout",
     "text": [
      "[[0.99899292 0.00100708 0.        ]\n [0.99899292 0.00100708 0.        ]\n [0.99798584 0.00201416 0.        ]\n ...\n [0.         0.         0.        ]\n [0.         0.         0.        ]\n [0.         0.         0.        ]]\n"
     ]
    }
   ],
   "source": [
    "# now let's get probabilities for the second variant\n",
    "# and check this calculation\n",
    "with PyBGEN(chr21_bgen, probs_only=True) as bgen:\n",
    "    bgen.next()\n",
    "    _, probs = bgen.next()\n",
    "    print(probs)"
   ]
  },
  {
   "source": [
    "Ok, this looks like dosage is wrt to alternate allele, which makes sense. Alright, lets \n",
    "compute dosages from the probabilities of the first 10 samples and see what we get.\n",
    "\n",
    "The dosage calculation, is described [here](https://www.synapse.org/#!Synapse:syn2290704/wiki/64682)\n",
    "\n"
   ],
   "cell_type": "markdown",
   "metadata": {}
  },
  {
   "cell_type": "code",
   "execution_count": 30,
   "metadata": {},
   "outputs": [
    {
     "output_type": "execute_result",
     "data": {
      "text/plain": [
       "array([0.00201416, 0.00201416, 0.00402832, 0.        , 0.00201416,\n",
       "       0.46899414, 0.00201416, 0.00201416, 0.02197266, 0.04199219])"
      ]
     },
     "metadata": {},
     "execution_count": 30
    }
   ],
   "source": [
    "import numpy as np\n",
    "\n",
    "def mydosage(probs):\n",
    "    probs = np.array(probs)\n",
    "    return(probs[2] + 2 * probs[1])\n",
    "\n",
    "with PyBGEN(chr21_bgen, probs_only=True) as bgen:\n",
    "    bgen.next()\n",
    "    _, probs = bgen.next()\n",
    "    probs = probs[:10]\n",
    "    calculated_dosages = np.array([ mydosage(p) for p in probs ])\n",
    "calculated_dosages"
   ]
  },
  {
   "cell_type": "code",
   "execution_count": 34,
   "metadata": {},
   "outputs": [
    {
     "output_type": "execute_result",
     "data": {
      "text/plain": [
       "array([[0.00100708, 0.00201416],\n",
       "       [0.00100708, 0.00201416],\n",
       "       [0.00201416, 0.00402832],\n",
       "       [0.        , 0.        ],\n",
       "       [0.00100708, 0.00201416],\n",
       "       [       nan, 0.46899414],\n",
       "       [0.00100708, 0.00201416],\n",
       "       [0.00100708, 0.00201416],\n",
       "       [0.01098633, 0.02197266],\n",
       "       [0.02099609, 0.04199219]])"
      ]
     },
     "metadata": {},
     "execution_count": 34
    }
   ],
   "source": [
    "# are they equal?\n",
    "np.array([ returned_dosages, calculated_dosages ]).T"
   ]
  },
  {
   "cell_type": "code",
   "execution_count": 37,
   "metadata": {},
   "outputs": [
    {
     "output_type": "stream",
     "name": "stderr",
     "text": [
      "<ipython-input-37-25f6b3bcdaed>:3: RuntimeWarning: invalid value encountered in true_divide\n  a[:,0] / a[:,1]\n"
     ]
    },
    {
     "output_type": "execute_result",
     "data": {
      "text/plain": [
       "array([0.5, 0.5, 0.5, nan, 0.5, nan, 0.5, 0.5, 0.5, 0.5])"
      ]
     },
     "metadata": {},
     "execution_count": 37
    }
   ],
   "source": [
    "# apparently not... they look to be half of the I would expect\n",
    "a = np.array( [ returned_dosages, calculated_dosages, calculated_dosages ]).T\n",
    "a[:,0] / a[:,1]"
   ]
  },
  {
   "source": [
    "Yup, and there's the NAs which I imagine might have something to do with\n",
    "a probability threshold. Ok, let's look at pybgen code and try to understand...\n",
    "https://lemieuxl.github.io/pybgen/_modules/pybgen/pybgen.html#PyBGEN\n",
    "\n",
    "- there is a probability threshold, set by default to 0.9. The result\n",
    "is that dosages where any of the probabilities is greater than 0.9 are returned\n",
    "as NA\n",
    "\n",
    "- Ok, the probability bit is a little confusing but I think we are ok... if I understand code\n",
    "correctly, probs returned are PAA, PBB, PAB. In which case the calculation I performed \n",
    "was in fact incorrect... Let's try again..."
   ],
   "cell_type": "markdown",
   "metadata": {}
  },
  {
   "cell_type": "code",
   "execution_count": 38,
   "metadata": {},
   "outputs": [
    {
     "output_type": "execute_result",
     "data": {
      "text/plain": [
       "array([0.00100708, 0.00100708, 0.00201416, 0.        , 0.00100708,\n",
       "       0.23898315, 0.00100708, 0.00100708, 0.01098633, 0.02099609])"
      ]
     },
     "metadata": {},
     "execution_count": 38
    }
   ],
   "source": [
    "def mydosage(probs):\n",
    "    probs = np.array(probs)\n",
    "    return(probs[1] + 2 * probs[2])\n",
    "\n",
    "with PyBGEN(chr21_bgen, probs_only=True) as bgen:\n",
    "    bgen.next()\n",
    "    _, probs = bgen.next()\n",
    "    probs = probs[:10]\n",
    "    calculated_dosages = np.array([ mydosage(p) for p in probs ])\n",
    "calculated_dosages"
   ]
  },
  {
   "cell_type": "code",
   "execution_count": 39,
   "metadata": {},
   "outputs": [
    {
     "output_type": "execute_result",
     "data": {
      "text/plain": [
       "array([[0.00100708, 0.00100708],\n",
       "       [0.00100708, 0.00100708],\n",
       "       [0.00201416, 0.00201416],\n",
       "       [0.        , 0.        ],\n",
       "       [0.00100708, 0.00100708],\n",
       "       [       nan, 0.23898315],\n",
       "       [0.00100708, 0.00100708],\n",
       "       [0.00100708, 0.00100708],\n",
       "       [0.01098633, 0.01098633],\n",
       "       [0.02099609, 0.02099609]])"
      ]
     },
     "metadata": {},
     "execution_count": 39
    }
   ],
   "source": [
    "# are they equal?\n",
    "np.array([ returned_dosages, calculated_dosages ]).T"
   ]
  },
  {
   "source": [
    "Cool. I think we are good. Ok, let's give it a first try on how to write\n",
    "a tsv file of data. "
   ],
   "cell_type": "markdown",
   "metadata": {}
  },
  {
   "cell_type": "code",
   "execution_count": 78,
   "metadata": {},
   "outputs": [],
   "source": [
    "from progress.bar import Bar\n",
    "\n",
    "def write_dosage_tsv(bgen_file, output_file, sample_df, chr, num_variants=0, num_samples=0):\n",
    "    colname_prefix = ['rsid', 'chr', 'pos', 'ref', 'alt']\n",
    "    if num_samples == 0:\n",
    "        num_samples = len(sample_df)\n",
    "    \n",
    "    assert 'ID_2' in sample_df.columns, \"ID_2 column not found in sample_df\"\n",
    "\n",
    "    samplenames = list(sample_df.ID_2[:num_samples].values)\n",
    "    colnames = colname_prefix + samplenames\n",
    "\n",
    "    with open(output_file, 'w') as out, PyBGEN(bgen_file) as bgen:\n",
    "        assert num_samples <= bgen.nb_samples, f\"bgen has {bgen.nb_samples} samples and we want {num_samples}\"\n",
    "        \n",
    "        out.write(\"\\t\".join(colnames) + \"\\n\")\n",
    "        \n",
    "        if num_variants == 0:\n",
    "            num_variants = bgen.nb_variants\n",
    "\n",
    "        print(f\"Reading bgen file {bgen_file}\")\n",
    "        print(f\"Writing tsv file {output_file}\")\n",
    "        print(f\"num variants: {num_variants}, num samples: {num_samples}\")\n",
    "\n",
    "        bar = Bar('Writing', max=num_variants)\n",
    "        i = 0\n",
    "        for info, dosage in bgen:\n",
    "            if i == num_variants:\n",
    "                break\n",
    "            i += 1\n",
    "            bar.next()\n",
    "\n",
    "            # subset to the samples we want\n",
    "            dosage = dosage[:num_samples]\n",
    "\n",
    "            # dont print if they are all na\n",
    "            if np.isnan(dosage).all():\n",
    "                continue\n",
    "\n",
    "            # dont print if they all have the same value\n",
    "            if np.max(dosage) == np.min(dosage):\n",
    "                continue\n",
    "\n",
    "            info_str = f\"{info.name}\\t{chr}\\t{info.pos}\\t{info.a1}\\t{info.a2}\"\n",
    "            dosage_str = \"\\t\".join([ str(d) for d in dosage[:num_samples]])\n",
    "            out.write(info_str + \"\\t\" + dosage_str + \"\\n\")\n",
    "        bar.finish()\n",
    "\n"
   ]
  },
  {
   "cell_type": "code",
   "execution_count": 79,
   "metadata": {},
   "outputs": [
    {
     "output_type": "stream",
     "name": "stdout",
     "text": [
      "Reading bgen file ADNI_merged_21.bgen\nWriting tsv file ADNI_merged_21_dosage.tsv\nnum variants: 20, num samples: 10\n"
     ]
    }
   ],
   "source": [
    "# alright let's test it out with 20 variants and 10 samples\n",
    "write_dosage_tsv(chr21_bgen, \"ADNI_merged_21_dosage.tsv\", sample_df, \"chr21\", 20, 10)\n"
   ]
  },
  {
   "cell_type": "code",
   "execution_count": 80,
   "metadata": {},
   "outputs": [
    {
     "output_type": "execute_result",
     "data": {
      "text/plain": [
       "          rsid    chr       pos  ref alt  014_S_0520  005_S_1341  012_S_0803  \\\n",
       "0  rs184649157  chr21   9576494    G   A    0.001007    0.001007    0.002014   \n",
       "1  rs191306879  chr21   9585758    G   C    0.003998    0.000000    0.000000   \n",
       "2  rs201984519  chr21   9710110  TGA   T    0.001007    0.000000    0.000000   \n",
       "3  rs142055579  chr21   9959950    A   G         NaN    0.006012    0.002991   \n",
       "4  rs202178237  chr21  10031582   TA   T    0.000000    0.000000    0.001007   \n",
       "5  rs150848991  chr21  10208211    C   T    0.001007    0.002014    0.003998   \n",
       "\n",
       "   018_S_0055  027_S_0118  027_S_0403  053_S_0389  041_S_0262  005_S_1224  \\\n",
       "0    0.000000    0.001007         NaN    0.001007    0.001007    0.010986   \n",
       "1    0.028992    0.000000    0.000000    0.000000    0.000000    0.000000   \n",
       "2    0.000000    0.000000    0.000000    0.000000    0.000000    0.000000   \n",
       "3    0.002014    0.035004    0.002991    0.002991    0.032013    0.002014   \n",
       "4    0.002014    0.001007    0.006989    0.000000    0.000000    0.010010   \n",
       "5    0.000000         NaN    0.001007    0.001007    0.002014    0.009003   \n",
       "\n",
       "   010_S_0472  \n",
       "0    0.020996  \n",
       "1    0.000000  \n",
       "2    0.000000  \n",
       "3    0.002991  \n",
       "4    0.024994  \n",
       "5    0.000000  "
      ],
      "text/html": "<div>\n<style scoped>\n    .dataframe tbody tr th:only-of-type {\n        vertical-align: middle;\n    }\n\n    .dataframe tbody tr th {\n        vertical-align: top;\n    }\n\n    .dataframe thead th {\n        text-align: right;\n    }\n</style>\n<table border=\"1\" class=\"dataframe\">\n  <thead>\n    <tr style=\"text-align: right;\">\n      <th></th>\n      <th>rsid</th>\n      <th>chr</th>\n      <th>pos</th>\n      <th>ref</th>\n      <th>alt</th>\n      <th>014_S_0520</th>\n      <th>005_S_1341</th>\n      <th>012_S_0803</th>\n      <th>018_S_0055</th>\n      <th>027_S_0118</th>\n      <th>027_S_0403</th>\n      <th>053_S_0389</th>\n      <th>041_S_0262</th>\n      <th>005_S_1224</th>\n      <th>010_S_0472</th>\n    </tr>\n  </thead>\n  <tbody>\n    <tr>\n      <th>0</th>\n      <td>rs184649157</td>\n      <td>chr21</td>\n      <td>9576494</td>\n      <td>G</td>\n      <td>A</td>\n      <td>0.001007</td>\n      <td>0.001007</td>\n      <td>0.002014</td>\n      <td>0.000000</td>\n      <td>0.001007</td>\n      <td>NaN</td>\n      <td>0.001007</td>\n      <td>0.001007</td>\n      <td>0.010986</td>\n      <td>0.020996</td>\n    </tr>\n    <tr>\n      <th>1</th>\n      <td>rs191306879</td>\n      <td>chr21</td>\n      <td>9585758</td>\n      <td>G</td>\n      <td>C</td>\n      <td>0.003998</td>\n      <td>0.000000</td>\n      <td>0.000000</td>\n      <td>0.028992</td>\n      <td>0.000000</td>\n      <td>0.000000</td>\n      <td>0.000000</td>\n      <td>0.000000</td>\n      <td>0.000000</td>\n      <td>0.000000</td>\n    </tr>\n    <tr>\n      <th>2</th>\n      <td>rs201984519</td>\n      <td>chr21</td>\n      <td>9710110</td>\n      <td>TGA</td>\n      <td>T</td>\n      <td>0.001007</td>\n      <td>0.000000</td>\n      <td>0.000000</td>\n      <td>0.000000</td>\n      <td>0.000000</td>\n      <td>0.000000</td>\n      <td>0.000000</td>\n      <td>0.000000</td>\n      <td>0.000000</td>\n      <td>0.000000</td>\n    </tr>\n    <tr>\n      <th>3</th>\n      <td>rs142055579</td>\n      <td>chr21</td>\n      <td>9959950</td>\n      <td>A</td>\n      <td>G</td>\n      <td>NaN</td>\n      <td>0.006012</td>\n      <td>0.002991</td>\n      <td>0.002014</td>\n      <td>0.035004</td>\n      <td>0.002991</td>\n      <td>0.002991</td>\n      <td>0.032013</td>\n      <td>0.002014</td>\n      <td>0.002991</td>\n    </tr>\n    <tr>\n      <th>4</th>\n      <td>rs202178237</td>\n      <td>chr21</td>\n      <td>10031582</td>\n      <td>TA</td>\n      <td>T</td>\n      <td>0.000000</td>\n      <td>0.000000</td>\n      <td>0.001007</td>\n      <td>0.002014</td>\n      <td>0.001007</td>\n      <td>0.006989</td>\n      <td>0.000000</td>\n      <td>0.000000</td>\n      <td>0.010010</td>\n      <td>0.024994</td>\n    </tr>\n    <tr>\n      <th>5</th>\n      <td>rs150848991</td>\n      <td>chr21</td>\n      <td>10208211</td>\n      <td>C</td>\n      <td>T</td>\n      <td>0.001007</td>\n      <td>0.002014</td>\n      <td>0.003998</td>\n      <td>0.000000</td>\n      <td>NaN</td>\n      <td>0.001007</td>\n      <td>0.001007</td>\n      <td>0.002014</td>\n      <td>0.009003</td>\n      <td>0.000000</td>\n    </tr>\n  </tbody>\n</table>\n</div>"
     },
     "metadata": {},
     "execution_count": 80
    }
   ],
   "source": [
    "# ok let's take a look\n",
    "test_df = pd.read_csv(\"ADNI_merged_21_dosage.tsv\", delimiter=\"\\t\")\n",
    "test_df"
   ]
  },
  {
   "cell_type": "code",
   "execution_count": 99,
   "metadata": {},
   "outputs": [
    {
     "output_type": "stream",
     "name": "stdout",
     "text": [
      "Reading bgen file ADNI_merged_21.bgen\nWriting tsv file ADNI_merged_21_dosage.tsv\nnum variants: 177285, num samples: 940\n"
     ]
    }
   ],
   "source": [
    "# ok, let's do this for chr21 now\n",
    "write_dosage_tsv(\"ADNI_merged_21.bgen\", \"ADNI_merged_21_dosage.tsv\", sample_df, \"chr21\")"
   ]
  },
  {
   "cell_type": "code",
   "execution_count": 100,
   "metadata": {},
   "outputs": [
    {
     "output_type": "stream",
     "name": "stdout",
     "text": [
      "  175823 ADNI_merged_21_dosage.tsv\n"
     ]
    }
   ],
   "source": [
    "!wc -l ADNI_merged_21_dosage.tsv"
   ]
  },
  {
   "cell_type": "code",
   "execution_count": 101,
   "metadata": {},
   "outputs": [
    {
     "output_type": "execute_result",
     "data": {
      "text/plain": [
       "           rsid    chr       pos ref alt  014_S_0520  005_S_1341  012_S_0803  \\\n",
       "0   rs186660003  chr21   9419528   A   G         NaN         NaN         NaN   \n",
       "1   rs184649157  chr21   9576494   G   A    0.001007    0.001007    0.002014   \n",
       "2   rs191306879  chr21   9585758   G   C    0.003998    0.000000    0.000000   \n",
       "3   rs193227632  chr21   9675950   T   A         NaN         NaN         NaN   \n",
       "4   rs180808578  chr21   9680948   A   G         NaN         NaN         NaN   \n",
       "..          ...    ...       ...  ..  ..         ...         ...         ...   \n",
       "95  rs149722537  chr21  14404392   G   T    0.001007    0.001007    0.000000   \n",
       "96  rs189994453  chr21  14404743   A   C    0.001007    0.001007    0.001007   \n",
       "97   rs28673345  chr21  14404991   A   T    0.000000    0.000000    0.000000   \n",
       "98  rs185263172  chr21  14407469   C   T    0.000000    0.000000    0.000000   \n",
       "99    rs9983189  chr21  14407716   C   G    0.002991    0.045013    0.002014   \n",
       "\n",
       "    018_S_0055  027_S_0118  ...  009_S_2381  068_S_4274  041_S_4014  \\\n",
       "0          NaN         NaN  ...    0.001007         0.0    0.000000   \n",
       "1     0.000000    0.001007  ...         NaN         NaN         NaN   \n",
       "2     0.028992    0.000000  ...         NaN         NaN         NaN   \n",
       "3          NaN         NaN  ...    0.000000         0.0    0.009003   \n",
       "4          NaN         NaN  ...    0.001007         0.0    0.002014   \n",
       "..         ...         ...  ...         ...         ...         ...   \n",
       "95    0.009003         NaN  ...         NaN         NaN         NaN   \n",
       "96    0.009003         NaN  ...         NaN         NaN         NaN   \n",
       "97    0.001007    0.000000  ...    0.000000         0.0    0.000000   \n",
       "98    0.000000         NaN  ...         NaN         NaN         NaN   \n",
       "99    0.015015    0.037994  ...         NaN         NaN         NaN   \n",
       "\n",
       "    031_S_4194  141_S_4423  011_S_2274  094_S_4282  033_S_4179  033_S_4176  \\\n",
       "0     0.001007         NaN    0.002991    0.000000    0.000000    0.000000   \n",
       "1          NaN         NaN         NaN         NaN         NaN         NaN   \n",
       "2          NaN         NaN         NaN         NaN         NaN         NaN   \n",
       "3     0.049011    0.000000    0.002991    0.006012    0.000000    0.001007   \n",
       "4     0.001007    0.001007    0.006989    0.001007    0.002014    0.001007   \n",
       "..         ...         ...         ...         ...         ...         ...   \n",
       "95         NaN         NaN         NaN         NaN         NaN         NaN   \n",
       "96         NaN         NaN         NaN         NaN         NaN         NaN   \n",
       "97    0.000000    0.000000    0.000000    0.000000    0.000000    0.000000   \n",
       "98         NaN         NaN         NaN         NaN         NaN         NaN   \n",
       "99         NaN         NaN         NaN         NaN         NaN         NaN   \n",
       "\n",
       "    099_S_2042  \n",
       "0     0.002014  \n",
       "1          NaN  \n",
       "2          NaN  \n",
       "3     0.000000  \n",
       "4     0.002014  \n",
       "..         ...  \n",
       "95         NaN  \n",
       "96         NaN  \n",
       "97    0.000000  \n",
       "98         NaN  \n",
       "99         NaN  \n",
       "\n",
       "[100 rows x 945 columns]"
      ],
      "text/html": "<div>\n<style scoped>\n    .dataframe tbody tr th:only-of-type {\n        vertical-align: middle;\n    }\n\n    .dataframe tbody tr th {\n        vertical-align: top;\n    }\n\n    .dataframe thead th {\n        text-align: right;\n    }\n</style>\n<table border=\"1\" class=\"dataframe\">\n  <thead>\n    <tr style=\"text-align: right;\">\n      <th></th>\n      <th>rsid</th>\n      <th>chr</th>\n      <th>pos</th>\n      <th>ref</th>\n      <th>alt</th>\n      <th>014_S_0520</th>\n      <th>005_S_1341</th>\n      <th>012_S_0803</th>\n      <th>018_S_0055</th>\n      <th>027_S_0118</th>\n      <th>...</th>\n      <th>009_S_2381</th>\n      <th>068_S_4274</th>\n      <th>041_S_4014</th>\n      <th>031_S_4194</th>\n      <th>141_S_4423</th>\n      <th>011_S_2274</th>\n      <th>094_S_4282</th>\n      <th>033_S_4179</th>\n      <th>033_S_4176</th>\n      <th>099_S_2042</th>\n    </tr>\n  </thead>\n  <tbody>\n    <tr>\n      <th>0</th>\n      <td>rs186660003</td>\n      <td>chr21</td>\n      <td>9419528</td>\n      <td>A</td>\n      <td>G</td>\n      <td>NaN</td>\n      <td>NaN</td>\n      <td>NaN</td>\n      <td>NaN</td>\n      <td>NaN</td>\n      <td>...</td>\n      <td>0.001007</td>\n      <td>0.0</td>\n      <td>0.000000</td>\n      <td>0.001007</td>\n      <td>NaN</td>\n      <td>0.002991</td>\n      <td>0.000000</td>\n      <td>0.000000</td>\n      <td>0.000000</td>\n      <td>0.002014</td>\n    </tr>\n    <tr>\n      <th>1</th>\n      <td>rs184649157</td>\n      <td>chr21</td>\n      <td>9576494</td>\n      <td>G</td>\n      <td>A</td>\n      <td>0.001007</td>\n      <td>0.001007</td>\n      <td>0.002014</td>\n      <td>0.000000</td>\n      <td>0.001007</td>\n      <td>...</td>\n      <td>NaN</td>\n      <td>NaN</td>\n      <td>NaN</td>\n      <td>NaN</td>\n      <td>NaN</td>\n      <td>NaN</td>\n      <td>NaN</td>\n      <td>NaN</td>\n      <td>NaN</td>\n      <td>NaN</td>\n    </tr>\n    <tr>\n      <th>2</th>\n      <td>rs191306879</td>\n      <td>chr21</td>\n      <td>9585758</td>\n      <td>G</td>\n      <td>C</td>\n      <td>0.003998</td>\n      <td>0.000000</td>\n      <td>0.000000</td>\n      <td>0.028992</td>\n      <td>0.000000</td>\n      <td>...</td>\n      <td>NaN</td>\n      <td>NaN</td>\n      <td>NaN</td>\n      <td>NaN</td>\n      <td>NaN</td>\n      <td>NaN</td>\n      <td>NaN</td>\n      <td>NaN</td>\n      <td>NaN</td>\n      <td>NaN</td>\n    </tr>\n    <tr>\n      <th>3</th>\n      <td>rs193227632</td>\n      <td>chr21</td>\n      <td>9675950</td>\n      <td>T</td>\n      <td>A</td>\n      <td>NaN</td>\n      <td>NaN</td>\n      <td>NaN</td>\n      <td>NaN</td>\n      <td>NaN</td>\n      <td>...</td>\n      <td>0.000000</td>\n      <td>0.0</td>\n      <td>0.009003</td>\n      <td>0.049011</td>\n      <td>0.000000</td>\n      <td>0.002991</td>\n      <td>0.006012</td>\n      <td>0.000000</td>\n      <td>0.001007</td>\n      <td>0.000000</td>\n    </tr>\n    <tr>\n      <th>4</th>\n      <td>rs180808578</td>\n      <td>chr21</td>\n      <td>9680948</td>\n      <td>A</td>\n      <td>G</td>\n      <td>NaN</td>\n      <td>NaN</td>\n      <td>NaN</td>\n      <td>NaN</td>\n      <td>NaN</td>\n      <td>...</td>\n      <td>0.001007</td>\n      <td>0.0</td>\n      <td>0.002014</td>\n      <td>0.001007</td>\n      <td>0.001007</td>\n      <td>0.006989</td>\n      <td>0.001007</td>\n      <td>0.002014</td>\n      <td>0.001007</td>\n      <td>0.002014</td>\n    </tr>\n    <tr>\n      <th>...</th>\n      <td>...</td>\n      <td>...</td>\n      <td>...</td>\n      <td>...</td>\n      <td>...</td>\n      <td>...</td>\n      <td>...</td>\n      <td>...</td>\n      <td>...</td>\n      <td>...</td>\n      <td>...</td>\n      <td>...</td>\n      <td>...</td>\n      <td>...</td>\n      <td>...</td>\n      <td>...</td>\n      <td>...</td>\n      <td>...</td>\n      <td>...</td>\n      <td>...</td>\n      <td>...</td>\n    </tr>\n    <tr>\n      <th>95</th>\n      <td>rs149722537</td>\n      <td>chr21</td>\n      <td>14404392</td>\n      <td>G</td>\n      <td>T</td>\n      <td>0.001007</td>\n      <td>0.001007</td>\n      <td>0.000000</td>\n      <td>0.009003</td>\n      <td>NaN</td>\n      <td>...</td>\n      <td>NaN</td>\n      <td>NaN</td>\n      <td>NaN</td>\n      <td>NaN</td>\n      <td>NaN</td>\n      <td>NaN</td>\n      <td>NaN</td>\n      <td>NaN</td>\n      <td>NaN</td>\n      <td>NaN</td>\n    </tr>\n    <tr>\n      <th>96</th>\n      <td>rs189994453</td>\n      <td>chr21</td>\n      <td>14404743</td>\n      <td>A</td>\n      <td>C</td>\n      <td>0.001007</td>\n      <td>0.001007</td>\n      <td>0.001007</td>\n      <td>0.009003</td>\n      <td>NaN</td>\n      <td>...</td>\n      <td>NaN</td>\n      <td>NaN</td>\n      <td>NaN</td>\n      <td>NaN</td>\n      <td>NaN</td>\n      <td>NaN</td>\n      <td>NaN</td>\n      <td>NaN</td>\n      <td>NaN</td>\n      <td>NaN</td>\n    </tr>\n    <tr>\n      <th>97</th>\n      <td>rs28673345</td>\n      <td>chr21</td>\n      <td>14404991</td>\n      <td>A</td>\n      <td>T</td>\n      <td>0.000000</td>\n      <td>0.000000</td>\n      <td>0.000000</td>\n      <td>0.001007</td>\n      <td>0.000000</td>\n      <td>...</td>\n      <td>0.000000</td>\n      <td>0.0</td>\n      <td>0.000000</td>\n      <td>0.000000</td>\n      <td>0.000000</td>\n      <td>0.000000</td>\n      <td>0.000000</td>\n      <td>0.000000</td>\n      <td>0.000000</td>\n      <td>0.000000</td>\n    </tr>\n    <tr>\n      <th>98</th>\n      <td>rs185263172</td>\n      <td>chr21</td>\n      <td>14407469</td>\n      <td>C</td>\n      <td>T</td>\n      <td>0.000000</td>\n      <td>0.000000</td>\n      <td>0.000000</td>\n      <td>0.000000</td>\n      <td>NaN</td>\n      <td>...</td>\n      <td>NaN</td>\n      <td>NaN</td>\n      <td>NaN</td>\n      <td>NaN</td>\n      <td>NaN</td>\n      <td>NaN</td>\n      <td>NaN</td>\n      <td>NaN</td>\n      <td>NaN</td>\n      <td>NaN</td>\n    </tr>\n    <tr>\n      <th>99</th>\n      <td>rs9983189</td>\n      <td>chr21</td>\n      <td>14407716</td>\n      <td>C</td>\n      <td>G</td>\n      <td>0.002991</td>\n      <td>0.045013</td>\n      <td>0.002014</td>\n      <td>0.015015</td>\n      <td>0.037994</td>\n      <td>...</td>\n      <td>NaN</td>\n      <td>NaN</td>\n      <td>NaN</td>\n      <td>NaN</td>\n      <td>NaN</td>\n      <td>NaN</td>\n      <td>NaN</td>\n      <td>NaN</td>\n      <td>NaN</td>\n      <td>NaN</td>\n    </tr>\n  </tbody>\n</table>\n<p>100 rows × 945 columns</p>\n</div>"
     },
     "metadata": {},
     "execution_count": 101
    }
   ],
   "source": [
    "chr21_dat = pd.read_csv(\"ADNI_merged_21_dosage.tsv\", delimiter=\"\\t\", nrows=100)\n",
    "chr21_dat"
   ]
  },
  {
   "cell_type": "code",
   "execution_count": 102,
   "metadata": {},
   "outputs": [
    {
     "output_type": "stream",
     "name": "stdout",
     "text": [
      "Reading bgen file ADNI_merged_19.bgen\nWriting tsv file ADNI_merged_19_dosage.tsv\nnum variants: 293057, num samples: 940\n"
     ]
    }
   ],
   "source": [
    "# and now let's do chr19 \n",
    "write_dosage_tsv(\"ADNI_merged_19.bgen\", \"ADNI_merged_19_dosage.tsv\", sample_df, \"chr19\")"
   ]
  },
  {
   "cell_type": "code",
   "execution_count": 103,
   "metadata": {},
   "outputs": [
    {
     "output_type": "stream",
     "name": "stdout",
     "text": [
      "  292018 ADNI_merged_19_dosage.tsv\n"
     ]
    }
   ],
   "source": [
    "!wc -l ADNI_merged_19_dosage.tsv\n"
   ]
  },
  {
   "cell_type": "code",
   "execution_count": 104,
   "metadata": {},
   "outputs": [
    {
     "output_type": "execute_result",
     "data": {
      "text/plain": [
       "           rsid    chr     pos    ref alt  014_S_0520  005_S_1341  012_S_0803  \\\n",
       "0   rs201816663  chr19   80840    CCT   C         NaN         NaN         NaN   \n",
       "1     rs3020701  chr19   90974      T   C         NaN         NaN         NaN   \n",
       "2   rs199586602  chr19   93818  GATTT   G         NaN         NaN         NaN   \n",
       "3    rs56182540  chr19   95981      G   A    0.002014    0.036987    0.000000   \n",
       "4     rs7260412  chr19  105021      G   C    0.000000    0.000000    0.000000   \n",
       "..          ...    ...     ...    ...  ..         ...         ...         ...   \n",
       "95    rs2312723  chr19  265083      G   A    0.000000    0.002014    0.000000   \n",
       "96    rs6510643  chr19  265445      G   A    1.000000    0.997986    1.002014   \n",
       "97   rs77117568  chr19  265551      T   A    0.000000    0.000000    0.000000   \n",
       "98    rs6510644  chr19  265662      T   C    1.000000    0.997986    1.002014   \n",
       "99    rs2312724  chr19  266034      T   C    0.000000    0.000000    1.000000   \n",
       "\n",
       "    018_S_0055  027_S_0118  ...  009_S_2381  068_S_4274  041_S_4014  \\\n",
       "0          NaN         NaN  ...         NaN         NaN         NaN   \n",
       "1          NaN         NaN  ...    0.002014         0.0    0.006989   \n",
       "2          NaN         NaN  ...         NaN         0.0    0.001007   \n",
       "3          0.0    0.002014  ...         NaN         NaN         NaN   \n",
       "4          0.0    0.000000  ...         NaN         NaN         NaN   \n",
       "..         ...         ...  ...         ...         ...         ...   \n",
       "95         0.0    0.000000  ...         NaN         NaN         NaN   \n",
       "96         0.0    1.997986  ...    1.993011         1.0    1.997986   \n",
       "97         0.0    0.000000  ...    0.000000         0.0    0.000000   \n",
       "98         0.0    1.997986  ...    2.000000         1.0    2.000000   \n",
       "99         0.0    1.000000  ...    0.000000         0.0    0.000000   \n",
       "\n",
       "    031_S_4194  141_S_4423  011_S_2274  094_S_4282  033_S_4179  033_S_4176  \\\n",
       "0          NaN         NaN    0.009003         NaN         NaN         NaN   \n",
       "1     0.005005    0.000000    0.000000         0.0    0.000000         0.0   \n",
       "2     0.009003    0.014008    0.000000         0.0    0.007996         0.0   \n",
       "3          NaN         NaN         NaN         NaN         NaN         NaN   \n",
       "4          NaN         NaN         NaN         NaN         NaN         NaN   \n",
       "..         ...         ...         ...         ...         ...         ...   \n",
       "95         NaN         NaN         NaN         NaN         NaN         NaN   \n",
       "96    0.998993    1.000000    2.000000         1.0    1.000000         2.0   \n",
       "97    0.000000    0.000000    0.000000         0.0    0.000000         0.0   \n",
       "98    0.998993    1.000000    2.000000         1.0    1.000000         2.0   \n",
       "99    0.000000    0.000000    0.000000         0.0    1.000000         1.0   \n",
       "\n",
       "    099_S_2042  \n",
       "0          NaN  \n",
       "1          0.0  \n",
       "2          0.0  \n",
       "3          NaN  \n",
       "4          NaN  \n",
       "..         ...  \n",
       "95         NaN  \n",
       "96         2.0  \n",
       "97         0.0  \n",
       "98         2.0  \n",
       "99         0.0  \n",
       "\n",
       "[100 rows x 945 columns]"
      ],
      "text/html": "<div>\n<style scoped>\n    .dataframe tbody tr th:only-of-type {\n        vertical-align: middle;\n    }\n\n    .dataframe tbody tr th {\n        vertical-align: top;\n    }\n\n    .dataframe thead th {\n        text-align: right;\n    }\n</style>\n<table border=\"1\" class=\"dataframe\">\n  <thead>\n    <tr style=\"text-align: right;\">\n      <th></th>\n      <th>rsid</th>\n      <th>chr</th>\n      <th>pos</th>\n      <th>ref</th>\n      <th>alt</th>\n      <th>014_S_0520</th>\n      <th>005_S_1341</th>\n      <th>012_S_0803</th>\n      <th>018_S_0055</th>\n      <th>027_S_0118</th>\n      <th>...</th>\n      <th>009_S_2381</th>\n      <th>068_S_4274</th>\n      <th>041_S_4014</th>\n      <th>031_S_4194</th>\n      <th>141_S_4423</th>\n      <th>011_S_2274</th>\n      <th>094_S_4282</th>\n      <th>033_S_4179</th>\n      <th>033_S_4176</th>\n      <th>099_S_2042</th>\n    </tr>\n  </thead>\n  <tbody>\n    <tr>\n      <th>0</th>\n      <td>rs201816663</td>\n      <td>chr19</td>\n      <td>80840</td>\n      <td>CCT</td>\n      <td>C</td>\n      <td>NaN</td>\n      <td>NaN</td>\n      <td>NaN</td>\n      <td>NaN</td>\n      <td>NaN</td>\n      <td>...</td>\n      <td>NaN</td>\n      <td>NaN</td>\n      <td>NaN</td>\n      <td>NaN</td>\n      <td>NaN</td>\n      <td>0.009003</td>\n      <td>NaN</td>\n      <td>NaN</td>\n      <td>NaN</td>\n      <td>NaN</td>\n    </tr>\n    <tr>\n      <th>1</th>\n      <td>rs3020701</td>\n      <td>chr19</td>\n      <td>90974</td>\n      <td>T</td>\n      <td>C</td>\n      <td>NaN</td>\n      <td>NaN</td>\n      <td>NaN</td>\n      <td>NaN</td>\n      <td>NaN</td>\n      <td>...</td>\n      <td>0.002014</td>\n      <td>0.0</td>\n      <td>0.006989</td>\n      <td>0.005005</td>\n      <td>0.000000</td>\n      <td>0.000000</td>\n      <td>0.0</td>\n      <td>0.000000</td>\n      <td>0.0</td>\n      <td>0.0</td>\n    </tr>\n    <tr>\n      <th>2</th>\n      <td>rs199586602</td>\n      <td>chr19</td>\n      <td>93818</td>\n      <td>GATTT</td>\n      <td>G</td>\n      <td>NaN</td>\n      <td>NaN</td>\n      <td>NaN</td>\n      <td>NaN</td>\n      <td>NaN</td>\n      <td>...</td>\n      <td>NaN</td>\n      <td>0.0</td>\n      <td>0.001007</td>\n      <td>0.009003</td>\n      <td>0.014008</td>\n      <td>0.000000</td>\n      <td>0.0</td>\n      <td>0.007996</td>\n      <td>0.0</td>\n      <td>0.0</td>\n    </tr>\n    <tr>\n      <th>3</th>\n      <td>rs56182540</td>\n      <td>chr19</td>\n      <td>95981</td>\n      <td>G</td>\n      <td>A</td>\n      <td>0.002014</td>\n      <td>0.036987</td>\n      <td>0.000000</td>\n      <td>0.0</td>\n      <td>0.002014</td>\n      <td>...</td>\n      <td>NaN</td>\n      <td>NaN</td>\n      <td>NaN</td>\n      <td>NaN</td>\n      <td>NaN</td>\n      <td>NaN</td>\n      <td>NaN</td>\n      <td>NaN</td>\n      <td>NaN</td>\n      <td>NaN</td>\n    </tr>\n    <tr>\n      <th>4</th>\n      <td>rs7260412</td>\n      <td>chr19</td>\n      <td>105021</td>\n      <td>G</td>\n      <td>C</td>\n      <td>0.000000</td>\n      <td>0.000000</td>\n      <td>0.000000</td>\n      <td>0.0</td>\n      <td>0.000000</td>\n      <td>...</td>\n      <td>NaN</td>\n      <td>NaN</td>\n      <td>NaN</td>\n      <td>NaN</td>\n      <td>NaN</td>\n      <td>NaN</td>\n      <td>NaN</td>\n      <td>NaN</td>\n      <td>NaN</td>\n      <td>NaN</td>\n    </tr>\n    <tr>\n      <th>...</th>\n      <td>...</td>\n      <td>...</td>\n      <td>...</td>\n      <td>...</td>\n      <td>...</td>\n      <td>...</td>\n      <td>...</td>\n      <td>...</td>\n      <td>...</td>\n      <td>...</td>\n      <td>...</td>\n      <td>...</td>\n      <td>...</td>\n      <td>...</td>\n      <td>...</td>\n      <td>...</td>\n      <td>...</td>\n      <td>...</td>\n      <td>...</td>\n      <td>...</td>\n      <td>...</td>\n    </tr>\n    <tr>\n      <th>95</th>\n      <td>rs2312723</td>\n      <td>chr19</td>\n      <td>265083</td>\n      <td>G</td>\n      <td>A</td>\n      <td>0.000000</td>\n      <td>0.002014</td>\n      <td>0.000000</td>\n      <td>0.0</td>\n      <td>0.000000</td>\n      <td>...</td>\n      <td>NaN</td>\n      <td>NaN</td>\n      <td>NaN</td>\n      <td>NaN</td>\n      <td>NaN</td>\n      <td>NaN</td>\n      <td>NaN</td>\n      <td>NaN</td>\n      <td>NaN</td>\n      <td>NaN</td>\n    </tr>\n    <tr>\n      <th>96</th>\n      <td>rs6510643</td>\n      <td>chr19</td>\n      <td>265445</td>\n      <td>G</td>\n      <td>A</td>\n      <td>1.000000</td>\n      <td>0.997986</td>\n      <td>1.002014</td>\n      <td>0.0</td>\n      <td>1.997986</td>\n      <td>...</td>\n      <td>1.993011</td>\n      <td>1.0</td>\n      <td>1.997986</td>\n      <td>0.998993</td>\n      <td>1.000000</td>\n      <td>2.000000</td>\n      <td>1.0</td>\n      <td>1.000000</td>\n      <td>2.0</td>\n      <td>2.0</td>\n    </tr>\n    <tr>\n      <th>97</th>\n      <td>rs77117568</td>\n      <td>chr19</td>\n      <td>265551</td>\n      <td>T</td>\n      <td>A</td>\n      <td>0.000000</td>\n      <td>0.000000</td>\n      <td>0.000000</td>\n      <td>0.0</td>\n      <td>0.000000</td>\n      <td>...</td>\n      <td>0.000000</td>\n      <td>0.0</td>\n      <td>0.000000</td>\n      <td>0.000000</td>\n      <td>0.000000</td>\n      <td>0.000000</td>\n      <td>0.0</td>\n      <td>0.000000</td>\n      <td>0.0</td>\n      <td>0.0</td>\n    </tr>\n    <tr>\n      <th>98</th>\n      <td>rs6510644</td>\n      <td>chr19</td>\n      <td>265662</td>\n      <td>T</td>\n      <td>C</td>\n      <td>1.000000</td>\n      <td>0.997986</td>\n      <td>1.002014</td>\n      <td>0.0</td>\n      <td>1.997986</td>\n      <td>...</td>\n      <td>2.000000</td>\n      <td>1.0</td>\n      <td>2.000000</td>\n      <td>0.998993</td>\n      <td>1.000000</td>\n      <td>2.000000</td>\n      <td>1.0</td>\n      <td>1.000000</td>\n      <td>2.0</td>\n      <td>2.0</td>\n    </tr>\n    <tr>\n      <th>99</th>\n      <td>rs2312724</td>\n      <td>chr19</td>\n      <td>266034</td>\n      <td>T</td>\n      <td>C</td>\n      <td>0.000000</td>\n      <td>0.000000</td>\n      <td>1.000000</td>\n      <td>0.0</td>\n      <td>1.000000</td>\n      <td>...</td>\n      <td>0.000000</td>\n      <td>0.0</td>\n      <td>0.000000</td>\n      <td>0.000000</td>\n      <td>0.000000</td>\n      <td>0.000000</td>\n      <td>0.0</td>\n      <td>1.000000</td>\n      <td>1.0</td>\n      <td>0.0</td>\n    </tr>\n  </tbody>\n</table>\n<p>100 rows × 945 columns</p>\n</div>"
     },
     "metadata": {},
     "execution_count": 104
    }
   ],
   "source": [
    "chr19_dat = pd.read_csv(\"ADNI_merged_19_dosage.tsv\", delimiter=\"\\t\", nrows=100)\n",
    "chr19_dat"
   ]
  },
  {
   "cell_type": "code",
   "execution_count": 105,
   "metadata": {},
   "outputs": [],
   "source": [
    "# let's gzip them to reduce size\n",
    "!gzip ADNI_merged_19_dosage.tsv"
   ]
  },
  {
   "cell_type": "code",
   "execution_count": 106,
   "metadata": {},
   "outputs": [],
   "source": [
    "!gzip ADNI_merged_21_dosage.tsv"
   ]
  },
  {
   "cell_type": "code",
   "execution_count": 107,
   "metadata": {},
   "outputs": [
    {
     "output_type": "stream",
     "name": "stdout",
     "text": [
      "total 1245760\n-rw-r--r--@ 1 corradah  staff    31K May 21 07:45 ADNI_merged.sample\n-rw-r--r--@ 1 corradah  staff   249M May 21 08:05 ADNI_merged_19.bgen\n-rw-r--r--  1 corradah  staff    13M May 21 08:07 ADNI_merged_19.bgen.bgi\n-rw-r--r--  1 corradah  staff   126M May 21 13:24 ADNI_merged_19_dosage.tsv.gz\n-rw-r--r--@ 1 corradah  staff   118M May 19 08:45 ADNI_merged_21.bgen\n-rw-r--r--  1 corradah  staff   7.3M May 21 07:09 ADNI_merged_21.bgen.bgi\n-rw-r--r--  1 corradah  staff    64M May 21 13:22 ADNI_merged_21_dosage.tsv.gz\n-rw-r--r--@ 1 corradah  staff    19M May 21 10:01 ADNI_merged_22.snp-stats\n-rw-r--r--  1 corradah  staff    48K May 21 13:27 prep_data.ipynb\n"
     ]
    }
   ],
   "source": [
    "!ls -lh"
   ]
  },
  {
   "cell_type": "code",
   "execution_count": null,
   "metadata": {},
   "outputs": [],
   "source": []
  }
 ]
}